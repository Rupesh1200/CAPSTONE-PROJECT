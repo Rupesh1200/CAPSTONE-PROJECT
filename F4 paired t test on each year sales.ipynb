{
 "cells": [
  {
   "cell_type": "code",
   "execution_count": 2,
   "id": "cae8c5e0",
   "metadata": {},
   "outputs": [
    {
     "name": "stdout",
     "output_type": "stream",
     "text": [
      "Paired t-test results:\n",
      "2019-2020 vs 2020-2021: t-statistic = 0.6756483302904653  p-value = 0.5363108387748544\n",
      "2020-2021 vs 2021-2022: t-statistic = 1.3477501465649055  p-value = 0.21068169373987403\n",
      "2021-2022 vs 2022-2023: t-statistic = 1.1676347882493625  p-value = 0.27004006663283436\n",
      "2022-2023 vs 2023-2024: t-statistic = 1.157783314610362  p-value = 0.2714734657283464\n",
      "2023-2024 vs 2024-2025: t-statistic = 1.3714142372189722  p-value = 0.19757217756767242\n"
     ]
    }
   ],
   "source": [
    "import pandas as pd\n",
    "from scipy.stats import ttest_rel\n",
    "\n",
    "# Load the sales data\n",
    "sales_data = pd.read_csv(r\"C:\\Users\\hp\\Desktop\\Jupyter Notebook\\Capston project EV new\\EV_sales_final_data (1).csv\")\n",
    "\n",
    "# Extract sales data for each year\n",
    "sales_2019_2020 = sales_data[sales_data['Year'] == '2019-2020']['Total']\n",
    "sales_2020_2021 = sales_data[sales_data['Year'] == '2020-2021']['Total']\n",
    "sales_2021_2022 = sales_data[sales_data['Year'] == '2021-2022']['Total']\n",
    "sales_2022_2023 = sales_data[sales_data['Year'] == '2022-2023']['Total']\n",
    "sales_2023_2024 = sales_data[sales_data['Year'] == '2023-2024']['Total']\n",
    "\n",
    "# Perform paired t-tests\n",
    "t_stat_2019_2020, p_value_2019_2020 = ttest_rel(sales_2019_2020[:-1], sales_2019_2020[1:])\n",
    "t_stat_2020_2021, p_value_2020_2021 = ttest_rel(sales_2020_2021[:-1], sales_2020_2021[1:])\n",
    "t_stat_2021_2022, p_value_2021_2022 = ttest_rel(sales_2021_2022[:-1], sales_2021_2022[1:])\n",
    "t_stat_2022_2023, p_value_2022_2023 = ttest_rel(sales_2022_2023[:-1], sales_2022_2023[1:])\n",
    "t_stat_2023_2024, p_value_2023_2024 = ttest_rel(sales_2023_2024[:-1], sales_2023_2024[1:])\n",
    "\n",
    "# Print the results\n",
    "print(\"Paired t-test results:\")\n",
    "print(\"2019-2020 vs 2020-2021: t-statistic =\", t_stat_2019_2020, \" p-value =\", p_value_2019_2020)\n",
    "print(\"2020-2021 vs 2021-2022: t-statistic =\", t_stat_2020_2021, \" p-value =\", p_value_2020_2021)\n",
    "print(\"2021-2022 vs 2022-2023: t-statistic =\", t_stat_2021_2022, \" p-value =\", p_value_2021_2022)\n",
    "print(\"2022-2023 vs 2023-2024: t-statistic =\", t_stat_2022_2023, \" p-value =\", p_value_2022_2023)\n",
    "print(\"2023-2024 vs 2024-2025: t-statistic =\", t_stat_2023_2024, \" p-value =\", p_value_2023_2024)\n"
   ]
  },
  {
   "cell_type": "code",
   "execution_count": null,
   "id": "5c9e7e56",
   "metadata": {},
   "outputs": [],
   "source": []
  },
  {
   "cell_type": "code",
   "execution_count": null,
   "id": "552a2b92",
   "metadata": {},
   "outputs": [],
   "source": []
  },
  {
   "cell_type": "code",
   "execution_count": 5,
   "id": "ee8d399f",
   "metadata": {},
   "outputs": [
    {
     "name": "stdout",
     "output_type": "stream",
     "text": [
      "Paired t-test results:\n",
      "2019-2020 vs 2020-2021: t-statistic = 0.6756483302904653  p-value = 0.5363108387748544\n",
      "Fail to reject the null hypothesis: There is no significant difference between sales of 2019-2020 and 2020-2021.\n",
      "2020-2021 vs 2021-2022: t-statistic = 1.3477501465649055  p-value = 0.21068169373987403\n",
      "Fail to reject the null hypothesis: There is no significant difference between sales of 2020-2021 and 2021-2022.\n",
      "2021-2022 vs 2022-2023: t-statistic = 1.1676347882493625  p-value = 0.27004006663283436\n",
      "Fail to reject the null hypothesis: There is no significant difference between sales of 2021-2022 and 2022-2023.\n",
      "2022-2023 vs 2023-2024: t-statistic = 1.157783314610362  p-value = 0.2714734657283464\n",
      "Fail to reject the null hypothesis: There is no significant difference between sales of 2022-2023 and 2023-2024.\n",
      "2023-2024 vs 2024-2025: t-statistic = 1.3714142372189722  p-value = 0.19757217756767242\n",
      "Fail to reject the null hypothesis: There is no significant difference between sales of 2023-2024 and 2024-2025.\n"
     ]
    }
   ],
   "source": [
    "# Set significance level\n",
    "alpha = 0.05\n",
    "\n",
    "# Interpret the results\n",
    "print(\"Paired t-test results:\")\n",
    "print(\"2019-2020 vs 2020-2021: t-statistic =\", t_stat_2019_2020, \" p-value =\", p_value_2019_2020)\n",
    "if p_value_2019_2020 < alpha:\n",
    "    print(\"Reject the null hypothesis: There is a significant difference between sales of 2019-2020 and 2020-2021.\")\n",
    "else:\n",
    "    print(\"Fail to reject the null hypothesis: There is no significant difference between sales of 2019-2020 and 2020-2021.\")\n",
    "\n",
    "print(\"2020-2021 vs 2021-2022: t-statistic =\", t_stat_2020_2021, \" p-value =\", p_value_2020_2021)\n",
    "if p_value_2020_2021 < alpha:\n",
    "    print(\"Reject the null hypothesis: There is a significant difference between sales of 2020-2021 and 2021-2022.\")\n",
    "else:\n",
    "    print(\"Fail to reject the null hypothesis: There is no significant difference between sales of 2020-2021 and 2021-2022.\")\n",
    "\n",
    "print(\"2021-2022 vs 2022-2023: t-statistic =\", t_stat_2021_2022, \" p-value =\", p_value_2021_2022)\n",
    "if p_value_2021_2022 < alpha:\n",
    "    print(\"Reject the null hypothesis: There is a significant difference between sales of 2021-2022 and 2022-2023.\")\n",
    "else:\n",
    "    print(\"Fail to reject the null hypothesis: There is no significant difference between sales of 2021-2022 and 2022-2023.\")\n",
    "\n",
    "print(\"2022-2023 vs 2023-2024: t-statistic =\", t_stat_2022_2023, \" p-value =\", p_value_2022_2023)\n",
    "if p_value_2022_2023 < alpha:\n",
    "    print(\"Reject the null hypothesis: There is a significant difference between sales of 2022-2023 and 2023-2024.\")\n",
    "else:\n",
    "    print(\"Fail to reject the null hypothesis: There is no significant difference between sales of 2022-2023 and 2023-2024.\")\n",
    "\n",
    "print(\"2023-2024 vs 2024-2025: t-statistic =\", t_stat_2023_2024, \" p-value =\", p_value_2023_2024)\n",
    "if p_value_2023_2024 < alpha:\n",
    "    print(\"Reject the null hypothesis: There is a significant difference between sales of 2023-2024 and 2024-2025.\")\n",
    "else:\n",
    "    print(\"Fail to reject the null hypothesis: There is no significant difference between sales of 2023-2024 and 2024-2025.\")\n"
   ]
  },
  {
   "cell_type": "code",
   "execution_count": null,
   "id": "43e769e1",
   "metadata": {},
   "outputs": [],
   "source": []
  }
 ],
 "metadata": {
  "kernelspec": {
   "display_name": "Python 3 (ipykernel)",
   "language": "python",
   "name": "python3"
  },
  "language_info": {
   "codemirror_mode": {
    "name": "ipython",
    "version": 3
   },
   "file_extension": ".py",
   "mimetype": "text/x-python",
   "name": "python",
   "nbconvert_exporter": "python",
   "pygments_lexer": "ipython3",
   "version": "3.11.4"
  }
 },
 "nbformat": 4,
 "nbformat_minor": 5
}
