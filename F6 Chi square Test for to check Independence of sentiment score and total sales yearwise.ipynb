{
 "cells": [
  {
   "cell_type": "code",
   "execution_count": 2,
   "id": "2f5cbafc",
   "metadata": {},
   "outputs": [
    {
     "name": "stdout",
     "output_type": "stream",
     "text": [
      "Requirement already satisfied: openpyxl in c:\\users\\hp\\anaconda3\\lib\\site-packages (3.0.10)\n",
      "Collecting openpyxl\n",
      "  Obtaining dependency information for openpyxl from https://files.pythonhosted.org/packages/6a/94/a59521de836ef0da54aaf50da6c4da8fb4072fb3053fa71f052fd9399e7a/openpyxl-3.1.2-py2.py3-none-any.whl.metadata\n",
      "  Downloading openpyxl-3.1.2-py2.py3-none-any.whl.metadata (2.5 kB)\n",
      "Requirement already satisfied: et-xmlfile in c:\\users\\hp\\anaconda3\\lib\\site-packages (from openpyxl) (1.1.0)\n",
      "Downloading openpyxl-3.1.2-py2.py3-none-any.whl (249 kB)\n",
      "   ---------------------------------------- 0.0/250.0 kB ? eta -:--:--\n",
      "   - -------------------------------------- 10.2/250.0 kB ? eta -:--:--\n",
      "   ---- ---------------------------------- 30.7/250.0 kB 445.2 kB/s eta 0:00:01\n",
      "   ------ -------------------------------- 41.0/250.0 kB 330.3 kB/s eta 0:00:01\n",
      "   --------- ----------------------------- 61.4/250.0 kB 365.7 kB/s eta 0:00:01\n",
      "   ------------ -------------------------- 81.9/250.0 kB 383.3 kB/s eta 0:00:01\n",
      "   -------------- ------------------------ 92.2/250.0 kB 375.8 kB/s eta 0:00:01\n",
      "   ----------------- -------------------- 112.6/250.0 kB 386.4 kB/s eta 0:00:01\n",
      "   ------------------ ------------------- 122.9/250.0 kB 361.0 kB/s eta 0:00:01\n",
      "   --------------------- ---------------- 143.4/250.0 kB 370.8 kB/s eta 0:00:01\n",
      "   ------------------------ ------------- 163.8/250.0 kB 378.3 kB/s eta 0:00:01\n",
      "   ----------------------------- -------- 194.6/250.0 kB 368.6 kB/s eta 0:00:01\n",
      "   ------------------------------- ------ 204.8/250.0 kB 366.4 kB/s eta 0:00:01\n",
      "   ---------------------------------- --- 225.3/250.0 kB 372.0 kB/s eta 0:00:01\n",
      "   ---------------------------------- --- 225.3/250.0 kB 372.0 kB/s eta 0:00:01\n",
      "   -------------------------------------- 250.0/250.0 kB 365.5 kB/s eta 0:00:00\n",
      "Installing collected packages: openpyxl\n",
      "  Attempting uninstall: openpyxl\n",
      "    Found existing installation: openpyxl 3.0.10\n",
      "    Uninstalling openpyxl-3.0.10:\n",
      "      Successfully uninstalled openpyxl-3.0.10\n",
      "Successfully installed openpyxl-3.1.2\n",
      "Note: you may need to restart the kernel to use updated packages.\n"
     ]
    }
   ],
   "source": [
    "pip install --upgrade openpyxl"
   ]
  },
  {
   "cell_type": "code",
   "execution_count": 1,
   "id": "e1b8e81a",
   "metadata": {},
   "outputs": [
    {
     "name": "stdout",
     "output_type": "stream",
     "text": [
      "Chi-square test results:\n",
      "Chi-square statistic: 0.0\n",
      "p-value: 1.0\n",
      "Fail to reject the null hypothesis: Sentiment score and sales are independent.\n"
     ]
    }
   ],
   "source": [
    "import pandas as pd\n",
    "import numpy as np\n",
    "from sklearn.preprocessing import PolynomialFeatures\n",
    "from sklearn.linear_model import LinearRegression\n",
    "from sklearn.metrics import mean_squared_error\n",
    "from scipy.stats import chi2_contingency\n",
    "\n",
    "# Load the data\n",
    "sales_data = pd.read_csv(r\"C:\\Users\\hp\\Desktop\\Jupyter Notebook\\Capston project EV new\\EV_sales_final_data (1).csv\")\n",
    "sentiment_data = pd.read_excel(r\"C:\\Users\\hp\\Desktop\\Jupyter Notebook\\Capston project EV new\\sentiment_scores_combined.xlsx\")\n",
    "\n",
    "# Calculate average compound score and sum of total sales for each year\n",
    "avg_compound_score = sentiment_data.groupby('Year')['Compound Score'].mean()\n",
    "sum_total_sales = sales_data.groupby('Year')['Total'].sum()\n",
    "\n",
    "# Convert to DataFrame\n",
    "data = pd.DataFrame({'Avg Compound Score': avg_compound_score, 'Total Sales': sum_total_sales}).reset_index()\n",
    "\n",
    "# Discretize sentiment score into categories (you may need to adjust these bins)\n",
    "bins = [-np.inf, -0.5, 0.5, np.inf]\n",
    "labels = ['Negative', 'Neutral', 'Positive']\n",
    "data['Sentiment Category'] = pd.cut(data['Avg Compound Score'], bins=bins, labels=labels)\n",
    "\n",
    "# Create contingency table\n",
    "contingency_table = pd.crosstab(data['Sentiment Category'], columns='Total')\n",
    "\n",
    "# Perform chi-square test\n",
    "chi2, p_value, _, _ = chi2_contingency(contingency_table)\n",
    "\n",
    "# Results\n",
    "print(\"Chi-square test results:\")\n",
    "print(\"Chi-square statistic:\", chi2)\n",
    "print(\"p-value:\", p_value)\n",
    "\n",
    "# Interpret the results\n",
    "alpha = 0.05  # significance level\n",
    "if p_value < alpha:\n",
    "    print(\"Reject the null hypothesis: Sentiment score and sales are dependent.\")\n",
    "else:\n",
    "    print(\"Fail to reject the null hypothesis: Sentiment score and sales are independent.\")\n"
   ]
  },
  {
   "cell_type": "code",
   "execution_count": null,
   "id": "90e87dfc",
   "metadata": {},
   "outputs": [],
   "source": []
  }
 ],
 "metadata": {
  "kernelspec": {
   "display_name": "Python 3 (ipykernel)",
   "language": "python",
   "name": "python3"
  },
  "language_info": {
   "codemirror_mode": {
    "name": "ipython",
    "version": 3
   },
   "file_extension": ".py",
   "mimetype": "text/x-python",
   "name": "python",
   "nbconvert_exporter": "python",
   "pygments_lexer": "ipython3",
   "version": "3.11.4"
  }
 },
 "nbformat": 4,
 "nbformat_minor": 5
}
